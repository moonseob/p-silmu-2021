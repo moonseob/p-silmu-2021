{
  "nbformat": 4,
  "nbformat_minor": 0,
  "metadata": {
    "colab": {
      "name": "flask_server.ipynb",
      "provenance": [],
      "mount_file_id": "1sqYCJSNIyY64ggfl6wOy5_HcZtDk42Su",
      "authorship_tag": "ABX9TyPJ0PUdJBRsUMJnw2H1ztMh",
      "include_colab_link": true
    },
    "kernelspec": {
      "name": "python3",
      "display_name": "Python 3"
    },
    "language_info": {
      "name": "python"
    }
  },
  "cells": [
    {
      "cell_type": "markdown",
      "metadata": {
        "id": "view-in-github",
        "colab_type": "text"
      },
      "source": [
        "<a href=\"https://colab.research.google.com/github/PJMS/p-silmu-2021/blob/main/flask_server.ipynb\" target=\"_parent\"><img src=\"https://colab.research.google.com/assets/colab-badge.svg\" alt=\"Open In Colab\"/></a>"
      ]
    },
    {
      "cell_type": "markdown",
      "source": [
        "### 데이터 정의"
      ],
      "metadata": {
        "id": "UPIPULx5DIxh"
      }
    },
    {
      "cell_type": "markdown",
      "source": [
        "### 총 8개의 컬럼을 가진 상태로 받아야함 \n",
        "아래의 순서를 지키며 모두 정수형으로 받아야함"
      ],
      "metadata": {
        "id": "DFjZYIssItP-"
      }
    },
    {
      "cell_type": "markdown",
      "source": [
        "#### 입력 받아야하는 값\n",
        "\n",
        "\n",
        "  1. 성별 \n",
        "    - 여성:0, 남성:1\n",
        "  2. 나이\n",
        "    - 정수값으로\n",
        "  3. 고혈압 여부\n",
        "    - 없으면:0 ,   있으면:1\n",
        "  4. 심장 질환 여부\n",
        "   - 없으면:0,   있으면:1\n",
        "  5. 결혼 유무\n",
        "    - 기혼:0 , 미혼: 1\n",
        "  6. 일의 종류\n",
        "   - 'Private':0,  'Self-employed':1,  'children':2,'Govt_job':3,  'Never_worked':4\n",
        "  7. 주거 타입\n",
        "    - 'Urban':0,  'Rural':1\n",
        "  8. 흡연 유무\n",
        "   - 'never smoked':0,  'formerly smoked':1,  'smokes':2"
      ],
      "metadata": {
        "id": "4R86m93kDK_u"
      }
    },
    {
      "cell_type": "markdown",
      "source": [
        "새롭게 들어온 데이터에 대해서 평균값과 표준편차를 가져와 정규화를 진행하기 위해 전처리된 데이터를 가져옴"
      ],
      "metadata": {
        "id": "uTJXLsfPbLXH"
      }
    },
    {
      "cell_type": "code",
      "source": [
        "import pandas as pd\n",
        "temp_data = pd.read_csv('/content/drive/MyDrive/heart stroke/data_f.csv')"
      ],
      "metadata": {
        "id": "0H4FWwmsIsp-"
      },
      "execution_count": 14,
      "outputs": []
    },
    {
      "cell_type": "code",
      "source": [
        "temp_data = temp_data.drop(['Unnamed: 0'],axis=1)"
      ],
      "metadata": {
        "id": "1R5u5CRyKb8c"
      },
      "execution_count": 15,
      "outputs": []
    },
    {
      "cell_type": "code",
      "execution_count": 16,
      "metadata": {
        "colab": {
          "base_uri": "https://localhost:8080/"
        },
        "id": "OCsIVMQKDE4L",
        "outputId": "3aa93e8b-18d5-4532-9cea-b4dd4ad72133"
      },
      "outputs": [
        {
          "output_type": "execute_result",
          "data": {
            "text/plain": [
              "(43389, 8)"
            ]
          },
          "metadata": {},
          "execution_count": 16
        }
      ],
      "source": [
        "import numpy as np\n",
        "temp_data.to_numpy()\n",
        "temp_data.shape"
      ]
    },
    {
      "cell_type": "markdown",
      "source": [
        "평균값과 표준편차를 구해둠"
      ],
      "metadata": {
        "id": "-OYNiqwuLCv7"
      }
    },
    {
      "cell_type": "code",
      "source": [
        "mean = temp_data.mean(axis=0)\n",
        "std = temp_data.std(axis=0)"
      ],
      "metadata": {
        "id": "9xie9EhKLCAi"
      },
      "execution_count": 17,
      "outputs": []
    },
    {
      "cell_type": "code",
      "source": [
        "def input_data_prepro(input_data):\n",
        "  data = input_data.astype('float32')\n",
        "  data -= mean\n",
        "  data /= std\n",
        "\n",
        "  return data"
      ],
      "metadata": {
        "id": "iYm3TLSoLRzs"
      },
      "execution_count": 18,
      "outputs": []
    },
    {
      "cell_type": "markdown",
      "source": [
        "#### 모델 로드"
      ],
      "metadata": {
        "id": "Zsr-WFmLMVOP"
      }
    },
    {
      "cell_type": "code",
      "source": [
        "import tensorflow\n",
        "import keras\n",
        "import numpy as np\n",
        "\n",
        "model = keras.models.load_model('/content/drive/MyDrive/heart stroke/n_3_model.h5')"
      ],
      "metadata": {
        "id": "N4nXQng1MGhi"
      },
      "execution_count": 19,
      "outputs": []
    },
    {
      "cell_type": "code",
      "source": [
        "example = [0,30,1,1,0,4,0,2]"
      ],
      "metadata": {
        "id": "ebp1y51pdWUw"
      },
      "execution_count": 20,
      "outputs": []
    },
    {
      "cell_type": "code",
      "source": [
        "a = np.array(example)"
      ],
      "metadata": {
        "id": "5RtlAqFadovf"
      },
      "execution_count": 21,
      "outputs": []
    },
    {
      "cell_type": "code",
      "source": [
        "a.shape"
      ],
      "metadata": {
        "colab": {
          "base_uri": "https://localhost:8080/"
        },
        "id": "ln1wE6w3oIL6",
        "outputId": "de8fb014-7b83-402f-fe77-b248ccbc4fb2"
      },
      "execution_count": 22,
      "outputs": [
        {
          "output_type": "execute_result",
          "data": {
            "text/plain": [
              "(8,)"
            ]
          },
          "metadata": {},
          "execution_count": 22
        }
      ]
    },
    {
      "cell_type": "code",
      "source": [
        "a= np.expand_dims(a, axis = 0)"
      ],
      "metadata": {
        "id": "28Ilt6R9hHhT"
      },
      "execution_count": 23,
      "outputs": []
    },
    {
      "cell_type": "code",
      "source": [
        "a.shape"
      ],
      "metadata": {
        "colab": {
          "base_uri": "https://localhost:8080/"
        },
        "id": "R6r1LT9YghI0",
        "outputId": "fccad0b6-d5ac-46c0-e24a-73ae4b2ff1ef"
      },
      "execution_count": 24,
      "outputs": [
        {
          "output_type": "execute_result",
          "data": {
            "text/plain": [
              "(1, 8)"
            ]
          },
          "metadata": {},
          "execution_count": 24
        }
      ]
    },
    {
      "cell_type": "code",
      "source": [
        "ex_input_data = input_data_prepro(a)"
      ],
      "metadata": {
        "id": "5sxVv2vMeCvw"
      },
      "execution_count": 25,
      "outputs": []
    },
    {
      "cell_type": "code",
      "source": [
        "out_put = model.predict(ex_input_data)"
      ],
      "metadata": {
        "id": "_XawiL_oeSZa"
      },
      "execution_count": 26,
      "outputs": []
    },
    {
      "cell_type": "code",
      "source": [
        "out_put"
      ],
      "metadata": {
        "colab": {
          "base_uri": "https://localhost:8080/"
        },
        "id": "2ETgzWuihm_A",
        "outputId": "44f7ee00-096f-4305-d8eb-4116cef8b139"
      },
      "execution_count": null,
      "outputs": [
        {
          "output_type": "execute_result",
          "data": {
            "text/plain": [
              "array([[0.98931897]], dtype=float32)"
            ]
          },
          "metadata": {},
          "execution_count": 19
        }
      ]
    },
    {
      "cell_type": "markdown",
      "source": [
        "### 서버 구현"
      ],
      "metadata": {
        "id": "v9xsayMfPitz"
      }
    },
    {
      "cell_type": "markdown",
      "source": [
        "8개의 컬럼 값을 모두 받으면 그 값들을 사전에 계산한 평균과 표준편차로 정규화를 진행하고 이렇게 정규화가 진행된 값을 모델에 넣으면 0~1사이의 값(확률값을 반환 받음)"
      ],
      "metadata": {
        "id": "U8y4H97icwOx"
      }
    },
    {
      "cell_type": "code",
      "source": [
        "!pip install flask_ngrok"
      ],
      "metadata": {
        "colab": {
          "base_uri": "https://localhost:8080/"
        },
        "id": "pWEiHEMTPlPz",
        "outputId": "45d64ed5-cb8c-4246-9e03-b7db4182e465"
      },
      "execution_count": null,
      "outputs": [
        {
          "output_type": "stream",
          "name": "stdout",
          "text": [
            "Collecting flask_ngrok\n",
            "  Downloading flask_ngrok-0.0.25-py3-none-any.whl (3.1 kB)\n",
            "Requirement already satisfied: requests in /usr/local/lib/python3.7/dist-packages (from flask_ngrok) (2.23.0)\n",
            "Requirement already satisfied: Flask>=0.8 in /usr/local/lib/python3.7/dist-packages (from flask_ngrok) (1.1.4)\n",
            "Requirement already satisfied: itsdangerous<2.0,>=0.24 in /usr/local/lib/python3.7/dist-packages (from Flask>=0.8->flask_ngrok) (1.1.0)\n",
            "Requirement already satisfied: click<8.0,>=5.1 in /usr/local/lib/python3.7/dist-packages (from Flask>=0.8->flask_ngrok) (7.1.2)\n",
            "Requirement already satisfied: Werkzeug<2.0,>=0.15 in /usr/local/lib/python3.7/dist-packages (from Flask>=0.8->flask_ngrok) (1.0.1)\n",
            "Requirement already satisfied: Jinja2<3.0,>=2.10.1 in /usr/local/lib/python3.7/dist-packages (from Flask>=0.8->flask_ngrok) (2.11.3)\n",
            "Requirement already satisfied: MarkupSafe>=0.23 in /usr/local/lib/python3.7/dist-packages (from Jinja2<3.0,>=2.10.1->Flask>=0.8->flask_ngrok) (2.0.1)\n",
            "Requirement already satisfied: chardet<4,>=3.0.2 in /usr/local/lib/python3.7/dist-packages (from requests->flask_ngrok) (3.0.4)\n",
            "Requirement already satisfied: idna<3,>=2.5 in /usr/local/lib/python3.7/dist-packages (from requests->flask_ngrok) (2.10)\n",
            "Requirement already satisfied: urllib3!=1.25.0,!=1.25.1,<1.26,>=1.21.1 in /usr/local/lib/python3.7/dist-packages (from requests->flask_ngrok) (1.24.3)\n",
            "Requirement already satisfied: certifi>=2017.4.17 in /usr/local/lib/python3.7/dist-packages (from requests->flask_ngrok) (2021.10.8)\n",
            "Installing collected packages: flask-ngrok\n",
            "Successfully installed flask-ngrok-0.0.25\n"
          ]
        }
      ]
    },
    {
      "cell_type": "code",
      "source": [
        "from flask import Flask, request ,json\n",
        "from flask_ngrok import run_with_ngrok\n",
        "\n",
        "app = Flask(__name__)\n",
        "run_with_ngrok(app)\n",
        "\n",
        "@app.route(\"/\")\n",
        "def return_func():\n",
        "  # 훈련한 모델로 예측값을 받음\n",
        "  # 기존에 훈련된 모델로 예측값을 받는 부분\n",
        "  return #예측값 리턴\n",
        "app.run()"
      ],
      "metadata": {
        "colab": {
          "base_uri": "https://localhost:8080/"
        },
        "id": "u9XTkVRZMzQJ",
        "outputId": "ef743ae2-f35d-47ef-fd99-7ff2638bc950"
      },
      "execution_count": null,
      "outputs": [
        {
          "output_type": "stream",
          "name": "stdout",
          "text": [
            " * Serving Flask app \"__main__\" (lazy loading)\n",
            " * Environment: production\n",
            "\u001b[31m   WARNING: This is a development server. Do not use it in a production deployment.\u001b[0m\n",
            "\u001b[2m   Use a production WSGI server instead.\u001b[0m\n",
            " * Debug mode: off\n"
          ]
        },
        {
          "output_type": "stream",
          "name": "stderr",
          "text": [
            " * Running on http://127.0.0.1:5000/ (Press CTRL+C to quit)\n"
          ]
        },
        {
          "output_type": "stream",
          "name": "stdout",
          "text": [
            " * Running on http://5668-34-91-89-130.ngrok.io\n",
            " * Traffic stats available on http://127.0.0.1:4040\n"
          ]
        },
        {
          "output_type": "stream",
          "name": "stderr",
          "text": [
            "[2021-12-11 07:06:14,722] ERROR in app: Exception on / [GET]\n",
            "Traceback (most recent call last):\n",
            "  File \"/usr/local/lib/python3.7/dist-packages/flask/app.py\", line 2447, in wsgi_app\n",
            "    response = self.full_dispatch_request()\n",
            "  File \"/usr/local/lib/python3.7/dist-packages/flask/app.py\", line 1953, in full_dispatch_request\n",
            "    return self.finalize_request(rv)\n",
            "  File \"/usr/local/lib/python3.7/dist-packages/flask/app.py\", line 1968, in finalize_request\n",
            "    response = self.make_response(rv)\n",
            "  File \"/usr/local/lib/python3.7/dist-packages/flask/app.py\", line 2131, in make_response\n",
            "    \" {rv.__class__.__name__}.\".format(rv=rv)\n",
            "TypeError: The view function did not return a valid response. The return type must be a string, dict, tuple, Response instance, or WSGI callable, but it was a int.\n",
            "127.0.0.1 - - [11/Dec/2021 07:06:14] \"\u001b[35m\u001b[1mGET / HTTP/1.1\u001b[0m\" 500 -\n",
            "127.0.0.1 - - [11/Dec/2021 07:06:15] \"\u001b[33mGET /favicon.ico HTTP/1.1\u001b[0m\" 404 -\n",
            "[2021-12-11 07:06:16,371] ERROR in app: Exception on / [GET]\n",
            "Traceback (most recent call last):\n",
            "  File \"/usr/local/lib/python3.7/dist-packages/flask/app.py\", line 2447, in wsgi_app\n",
            "    response = self.full_dispatch_request()\n",
            "  File \"/usr/local/lib/python3.7/dist-packages/flask/app.py\", line 1953, in full_dispatch_request\n",
            "    return self.finalize_request(rv)\n",
            "  File \"/usr/local/lib/python3.7/dist-packages/flask/app.py\", line 1968, in finalize_request\n",
            "    response = self.make_response(rv)\n",
            "  File \"/usr/local/lib/python3.7/dist-packages/flask/app.py\", line 2131, in make_response\n",
            "    \" {rv.__class__.__name__}.\".format(rv=rv)\n",
            "TypeError: The view function did not return a valid response. The return type must be a string, dict, tuple, Response instance, or WSGI callable, but it was a int.\n",
            "127.0.0.1 - - [11/Dec/2021 07:06:16] \"\u001b[35m\u001b[1mGET / HTTP/1.1\u001b[0m\" 500 -\n"
          ]
        }
      ]
    },
    {
      "cell_type": "code",
      "source": [
        ""
      ],
      "metadata": {
        "id": "A9G6l-x7OwMy"
      },
      "execution_count": null,
      "outputs": []
    }
  ]
}