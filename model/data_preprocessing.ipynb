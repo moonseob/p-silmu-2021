{
  "cells": [
    {
      "cell_type": "markdown",
      "metadata": {
        "id": "view-in-github",
        "colab_type": "text"
      },
      "source": [
        "<a href=\"https://colab.research.google.com/github/PJMS/p-silmu-2021/blob/main/data_preprocessing.ipynb\" target=\"_parent\"><img src=\"https://colab.research.google.com/assets/colab-badge.svg\" alt=\"Open In Colab\"/></a>"
      ]
    },
    {
      "cell_type": "code",
      "execution_count": null,
      "metadata": {
        "id": "oIhkVQ_8pMc6"
      },
      "outputs": [],
      "source": [
        "import pandas as pd\n",
        "import numpy as np\n",
        "import tensorflow as tf\n",
        "import matplotlib.pyplot as plt"
      ]
    },
    {
      "cell_type": "code",
      "source": [
        "from google.colab import drive\n",
        "drive.mount('/content/drive')"
      ],
      "metadata": {
        "colab": {
          "base_uri": "https://localhost:8080/"
        },
        "id": "dVh8vKdtpsSO",
        "outputId": "f9b4a6d5-749f-4459-c713-7da109c7b5a3"
      },
      "execution_count": null,
      "outputs": [
        {
          "output_type": "stream",
          "name": "stdout",
          "text": [
            "Mounted at /content/drive\n"
          ]
        }
      ]
    },
    {
      "cell_type": "code",
      "execution_count": null,
      "metadata": {
        "colab": {
          "base_uri": "https://localhost:8080/",
          "height": 206
        },
        "id": "aZ2G2TPIpMdC",
        "outputId": "61e554c2-652c-414e-f3f8-4552f08b4217"
      },
      "outputs": [
        {
          "output_type": "execute_result",
          "data": {
            "text/html": [
              "<div>\n",
              "<style scoped>\n",
              "    .dataframe tbody tr th:only-of-type {\n",
              "        vertical-align: middle;\n",
              "    }\n",
              "\n",
              "    .dataframe tbody tr th {\n",
              "        vertical-align: top;\n",
              "    }\n",
              "\n",
              "    .dataframe thead th {\n",
              "        text-align: right;\n",
              "    }\n",
              "</style>\n",
              "<table border=\"1\" class=\"dataframe\">\n",
              "  <thead>\n",
              "    <tr style=\"text-align: right;\">\n",
              "      <th></th>\n",
              "      <th>id</th>\n",
              "      <th>gender</th>\n",
              "      <th>age</th>\n",
              "      <th>hypertension</th>\n",
              "      <th>heart_disease</th>\n",
              "      <th>ever_married</th>\n",
              "      <th>work_type</th>\n",
              "      <th>Residence_type</th>\n",
              "      <th>avg_glucose_level</th>\n",
              "      <th>bmi</th>\n",
              "      <th>smoking_status</th>\n",
              "      <th>stroke</th>\n",
              "    </tr>\n",
              "  </thead>\n",
              "  <tbody>\n",
              "    <tr>\n",
              "      <th>0</th>\n",
              "      <td>30669</td>\n",
              "      <td>Male</td>\n",
              "      <td>3.0</td>\n",
              "      <td>0</td>\n",
              "      <td>0</td>\n",
              "      <td>No</td>\n",
              "      <td>children</td>\n",
              "      <td>Rural</td>\n",
              "      <td>95.12</td>\n",
              "      <td>18.0</td>\n",
              "      <td>NaN</td>\n",
              "      <td>0</td>\n",
              "    </tr>\n",
              "    <tr>\n",
              "      <th>1</th>\n",
              "      <td>30468</td>\n",
              "      <td>Male</td>\n",
              "      <td>58.0</td>\n",
              "      <td>1</td>\n",
              "      <td>0</td>\n",
              "      <td>Yes</td>\n",
              "      <td>Private</td>\n",
              "      <td>Urban</td>\n",
              "      <td>87.96</td>\n",
              "      <td>39.2</td>\n",
              "      <td>never smoked</td>\n",
              "      <td>0</td>\n",
              "    </tr>\n",
              "    <tr>\n",
              "      <th>2</th>\n",
              "      <td>16523</td>\n",
              "      <td>Female</td>\n",
              "      <td>8.0</td>\n",
              "      <td>0</td>\n",
              "      <td>0</td>\n",
              "      <td>No</td>\n",
              "      <td>Private</td>\n",
              "      <td>Urban</td>\n",
              "      <td>110.89</td>\n",
              "      <td>17.6</td>\n",
              "      <td>NaN</td>\n",
              "      <td>0</td>\n",
              "    </tr>\n",
              "    <tr>\n",
              "      <th>3</th>\n",
              "      <td>56543</td>\n",
              "      <td>Female</td>\n",
              "      <td>70.0</td>\n",
              "      <td>0</td>\n",
              "      <td>0</td>\n",
              "      <td>Yes</td>\n",
              "      <td>Private</td>\n",
              "      <td>Rural</td>\n",
              "      <td>69.04</td>\n",
              "      <td>35.9</td>\n",
              "      <td>formerly smoked</td>\n",
              "      <td>0</td>\n",
              "    </tr>\n",
              "    <tr>\n",
              "      <th>4</th>\n",
              "      <td>46136</td>\n",
              "      <td>Male</td>\n",
              "      <td>14.0</td>\n",
              "      <td>0</td>\n",
              "      <td>0</td>\n",
              "      <td>No</td>\n",
              "      <td>Never_worked</td>\n",
              "      <td>Rural</td>\n",
              "      <td>161.28</td>\n",
              "      <td>19.1</td>\n",
              "      <td>NaN</td>\n",
              "      <td>0</td>\n",
              "    </tr>\n",
              "  </tbody>\n",
              "</table>\n",
              "</div>"
            ],
            "text/plain": [
              "      id  gender   age  ...   bmi   smoking_status stroke\n",
              "0  30669    Male   3.0  ...  18.0              NaN      0\n",
              "1  30468    Male  58.0  ...  39.2     never smoked      0\n",
              "2  16523  Female   8.0  ...  17.6              NaN      0\n",
              "3  56543  Female  70.0  ...  35.9  formerly smoked      0\n",
              "4  46136    Male  14.0  ...  19.1              NaN      0\n",
              "\n",
              "[5 rows x 12 columns]"
            ]
          },
          "metadata": {},
          "execution_count": 3
        }
      ],
      "source": [
        "raw_data = pd.read_csv('/content/drive/MyDrive/heart stroke/train_strokes.csv')\n",
        "raw_data.head()"
      ]
    },
    {
      "cell_type": "markdown",
      "metadata": {
        "id": "Rr52bmEOpMdF"
      },
      "source": [
        "## 데이터 분석"
      ]
    },
    {
      "cell_type": "markdown",
      "metadata": {
        "id": "DwkSWxffpMdI"
      },
      "source": [
        "각 컬럼의 고윳값을 알아봄"
      ]
    },
    {
      "cell_type": "code",
      "execution_count": null,
      "metadata": {
        "colab": {
          "base_uri": "https://localhost:8080/"
        },
        "id": "NJ5h0zoRpMdK",
        "outputId": "a50a5484-5512-4e67-810d-d6ae2771a661"
      },
      "outputs": [
        {
          "output_type": "execute_result",
          "data": {
            "text/plain": [
              "id                   43400\n",
              "gender                   3\n",
              "age                    104\n",
              "hypertension             2\n",
              "heart_disease            2\n",
              "ever_married             2\n",
              "work_type                5\n",
              "Residence_type           2\n",
              "avg_glucose_level    12543\n",
              "bmi                    555\n",
              "smoking_status           3\n",
              "stroke                   2\n",
              "dtype: int64"
            ]
          },
          "metadata": {},
          "execution_count": 88
        }
      ],
      "source": [
        "raw_data.nunique()"
      ]
    },
    {
      "cell_type": "code",
      "execution_count": null,
      "metadata": {
        "colab": {
          "base_uri": "https://localhost:8080/"
        },
        "id": "zo5C25i4pMdL",
        "outputId": "fea6b958-f4d0-47be-a4eb-ffe30b8b68b0"
      },
      "outputs": [
        {
          "output_type": "stream",
          "name": "stdout",
          "text": [
            "<class 'pandas.core.frame.DataFrame'>\n",
            "RangeIndex: 43400 entries, 0 to 43399\n",
            "Data columns (total 12 columns):\n",
            " #   Column             Non-Null Count  Dtype  \n",
            "---  ------             --------------  -----  \n",
            " 0   id                 43400 non-null  int64  \n",
            " 1   gender             43400 non-null  object \n",
            " 2   age                43400 non-null  float64\n",
            " 3   hypertension       43400 non-null  int64  \n",
            " 4   heart_disease      43400 non-null  int64  \n",
            " 5   ever_married       43400 non-null  object \n",
            " 6   work_type          43400 non-null  object \n",
            " 7   Residence_type     43400 non-null  object \n",
            " 8   avg_glucose_level  43400 non-null  float64\n",
            " 9   bmi                41938 non-null  float64\n",
            " 10  smoking_status     30108 non-null  object \n",
            " 11  stroke             43400 non-null  int64  \n",
            "dtypes: float64(3), int64(4), object(5)\n",
            "memory usage: 4.0+ MB\n"
          ]
        }
      ],
      "source": [
        "raw_data.info()"
      ]
    },
    {
      "cell_type": "markdown",
      "source": [
        "흡연 상태와 bmi수치 컬럼에 결측치가 있는것 확인. 글루코스 수치는 개인이 구하기 힘든 특징이라고 생각해 해당 컬럼을 제거했음"
      ],
      "metadata": {
        "id": "5hYUJ3zgq9Oh"
      }
    },
    {
      "cell_type": "code",
      "source": [
        "heart_df = raw_data.drop('avg_glucose_level',axis=1)"
      ],
      "metadata": {
        "id": "HvULRakirE90"
      },
      "execution_count": null,
      "outputs": []
    },
    {
      "cell_type": "code",
      "source": [
        "heart_df.head(1)"
      ],
      "metadata": {
        "colab": {
          "base_uri": "https://localhost:8080/",
          "height": 81
        },
        "id": "kOfoaWi2rXbb",
        "outputId": "f5a4ae6f-3c98-4c8a-effc-e939f62cf8ee"
      },
      "execution_count": null,
      "outputs": [
        {
          "output_type": "execute_result",
          "data": {
            "text/html": [
              "<div>\n",
              "<style scoped>\n",
              "    .dataframe tbody tr th:only-of-type {\n",
              "        vertical-align: middle;\n",
              "    }\n",
              "\n",
              "    .dataframe tbody tr th {\n",
              "        vertical-align: top;\n",
              "    }\n",
              "\n",
              "    .dataframe thead th {\n",
              "        text-align: right;\n",
              "    }\n",
              "</style>\n",
              "<table border=\"1\" class=\"dataframe\">\n",
              "  <thead>\n",
              "    <tr style=\"text-align: right;\">\n",
              "      <th></th>\n",
              "      <th>id</th>\n",
              "      <th>gender</th>\n",
              "      <th>age</th>\n",
              "      <th>hypertension</th>\n",
              "      <th>heart_disease</th>\n",
              "      <th>ever_married</th>\n",
              "      <th>work_type</th>\n",
              "      <th>Residence_type</th>\n",
              "      <th>bmi</th>\n",
              "      <th>smoking_status</th>\n",
              "      <th>stroke</th>\n",
              "    </tr>\n",
              "  </thead>\n",
              "  <tbody>\n",
              "    <tr>\n",
              "      <th>0</th>\n",
              "      <td>30669</td>\n",
              "      <td>Male</td>\n",
              "      <td>3.0</td>\n",
              "      <td>0</td>\n",
              "      <td>0</td>\n",
              "      <td>No</td>\n",
              "      <td>children</td>\n",
              "      <td>Rural</td>\n",
              "      <td>18.0</td>\n",
              "      <td>NaN</td>\n",
              "      <td>0</td>\n",
              "    </tr>\n",
              "  </tbody>\n",
              "</table>\n",
              "</div>"
            ],
            "text/plain": [
              "      id gender  age  hypertension  ...  Residence_type   bmi smoking_status stroke\n",
              "0  30669   Male  3.0             0  ...           Rural  18.0            NaN      0\n",
              "\n",
              "[1 rows x 11 columns]"
            ]
          },
          "metadata": {},
          "execution_count": 5
        }
      ]
    },
    {
      "cell_type": "markdown",
      "metadata": {
        "id": "D9b_OKtHpMdN"
      },
      "source": [
        "####  데이터들의 고윳값 확인"
      ]
    },
    {
      "cell_type": "code",
      "execution_count": null,
      "metadata": {
        "colab": {
          "base_uri": "https://localhost:8080/"
        },
        "id": "eo5MxkJzpMdO",
        "outputId": "88bf0f82-aa09-482e-9cce-43c65c81ced8"
      },
      "outputs": [
        {
          "output_type": "stream",
          "name": "stdout",
          "text": [
            "성별\n",
            " Female    25665\n",
            "Male      17724\n",
            "Other        11\n",
            "Name: gender, dtype: int64 \n",
            "\n",
            "결혼 여부\n",
            " Yes    27938\n",
            "No     15462\n",
            "Name: ever_married, dtype: int64 \n",
            "\n",
            "일의 종류\n",
            " Private          24834\n",
            "Self-employed     6793\n",
            "children          6156\n",
            "Govt_job          5440\n",
            "Never_worked       177\n",
            "Name: work_type, dtype: int64 \n",
            "\n",
            "주거 장소\n",
            " Urban    21756\n",
            "Rural    21644\n",
            "Name: Residence_type, dtype: int64 \n",
            "\n",
            "심장마비로 사망 여부\n",
            " 0    42617\n",
            "1      783\n",
            "Name: stroke, dtype: int64 \n",
            "\n"
          ]
        }
      ],
      "source": [
        "print('성별\\n',heart_df['gender'].value_counts(),'\\n')\n",
        "print('결혼 여부\\n',heart_df['ever_married'].value_counts(),'\\n')\n",
        "print('일의 종류\\n',heart_df['work_type'].value_counts(),'\\n')\n",
        "print('주거 장소\\n',heart_df['Residence_type'].value_counts(),'\\n')\n",
        "print('심장마비로 사망 여부\\n',heart_df['stroke'].value_counts(),'\\n')"
      ]
    },
    {
      "cell_type": "markdown",
      "source": [
        "#### 성별 분석 후 전처리"
      ],
      "metadata": {
        "id": "vb4bvsWktabH"
      }
    },
    {
      "cell_type": "code",
      "source": [
        "other_c = heart_df['gender'] == 'Other'\n",
        "is_other = heart_df[other_c]\n",
        "is_other"
      ],
      "metadata": {
        "colab": {
          "base_uri": "https://localhost:8080/",
          "height": 394
        },
        "id": "XTnKc600teYg",
        "outputId": "a70c51ad-7ae4-4297-b1ef-dcf73f267b1a"
      },
      "execution_count": null,
      "outputs": [
        {
          "output_type": "execute_result",
          "data": {
            "text/html": [
              "<div>\n",
              "<style scoped>\n",
              "    .dataframe tbody tr th:only-of-type {\n",
              "        vertical-align: middle;\n",
              "    }\n",
              "\n",
              "    .dataframe tbody tr th {\n",
              "        vertical-align: top;\n",
              "    }\n",
              "\n",
              "    .dataframe thead th {\n",
              "        text-align: right;\n",
              "    }\n",
              "</style>\n",
              "<table border=\"1\" class=\"dataframe\">\n",
              "  <thead>\n",
              "    <tr style=\"text-align: right;\">\n",
              "      <th></th>\n",
              "      <th>id</th>\n",
              "      <th>gender</th>\n",
              "      <th>age</th>\n",
              "      <th>hypertension</th>\n",
              "      <th>heart_disease</th>\n",
              "      <th>ever_married</th>\n",
              "      <th>work_type</th>\n",
              "      <th>Residence_type</th>\n",
              "      <th>bmi</th>\n",
              "      <th>smoking_status</th>\n",
              "      <th>stroke</th>\n",
              "    </tr>\n",
              "  </thead>\n",
              "  <tbody>\n",
              "    <tr>\n",
              "      <th>2914</th>\n",
              "      <td>56156</td>\n",
              "      <td>Other</td>\n",
              "      <td>26.0</td>\n",
              "      <td>0</td>\n",
              "      <td>0</td>\n",
              "      <td>No</td>\n",
              "      <td>Private</td>\n",
              "      <td>Rural</td>\n",
              "      <td>22.4</td>\n",
              "      <td>formerly smoked</td>\n",
              "      <td>0</td>\n",
              "    </tr>\n",
              "    <tr>\n",
              "      <th>10768</th>\n",
              "      <td>26188</td>\n",
              "      <td>Other</td>\n",
              "      <td>46.0</td>\n",
              "      <td>0</td>\n",
              "      <td>0</td>\n",
              "      <td>No</td>\n",
              "      <td>Private</td>\n",
              "      <td>Rural</td>\n",
              "      <td>NaN</td>\n",
              "      <td>never smoked</td>\n",
              "      <td>0</td>\n",
              "    </tr>\n",
              "    <tr>\n",
              "      <th>15620</th>\n",
              "      <td>52984</td>\n",
              "      <td>Other</td>\n",
              "      <td>27.0</td>\n",
              "      <td>0</td>\n",
              "      <td>0</td>\n",
              "      <td>No</td>\n",
              "      <td>Private</td>\n",
              "      <td>Urban</td>\n",
              "      <td>NaN</td>\n",
              "      <td>smokes</td>\n",
              "      <td>0</td>\n",
              "    </tr>\n",
              "    <tr>\n",
              "      <th>15838</th>\n",
              "      <td>24893</td>\n",
              "      <td>Other</td>\n",
              "      <td>53.0</td>\n",
              "      <td>0</td>\n",
              "      <td>0</td>\n",
              "      <td>Yes</td>\n",
              "      <td>Private</td>\n",
              "      <td>Rural</td>\n",
              "      <td>NaN</td>\n",
              "      <td>NaN</td>\n",
              "      <td>0</td>\n",
              "    </tr>\n",
              "    <tr>\n",
              "      <th>19748</th>\n",
              "      <td>13471</td>\n",
              "      <td>Other</td>\n",
              "      <td>39.0</td>\n",
              "      <td>0</td>\n",
              "      <td>0</td>\n",
              "      <td>Yes</td>\n",
              "      <td>Govt_job</td>\n",
              "      <td>Urban</td>\n",
              "      <td>32.0</td>\n",
              "      <td>formerly smoked</td>\n",
              "      <td>0</td>\n",
              "    </tr>\n",
              "    <tr>\n",
              "      <th>21041</th>\n",
              "      <td>31015</td>\n",
              "      <td>Other</td>\n",
              "      <td>19.0</td>\n",
              "      <td>0</td>\n",
              "      <td>0</td>\n",
              "      <td>No</td>\n",
              "      <td>Private</td>\n",
              "      <td>Rural</td>\n",
              "      <td>32.2</td>\n",
              "      <td>formerly smoked</td>\n",
              "      <td>0</td>\n",
              "    </tr>\n",
              "    <tr>\n",
              "      <th>21192</th>\n",
              "      <td>27043</td>\n",
              "      <td>Other</td>\n",
              "      <td>49.0</td>\n",
              "      <td>0</td>\n",
              "      <td>0</td>\n",
              "      <td>Yes</td>\n",
              "      <td>Private</td>\n",
              "      <td>Urban</td>\n",
              "      <td>37.2</td>\n",
              "      <td>never smoked</td>\n",
              "      <td>0</td>\n",
              "    </tr>\n",
              "    <tr>\n",
              "      <th>24252</th>\n",
              "      <td>51111</td>\n",
              "      <td>Other</td>\n",
              "      <td>51.0</td>\n",
              "      <td>0</td>\n",
              "      <td>0</td>\n",
              "      <td>Yes</td>\n",
              "      <td>Private</td>\n",
              "      <td>Rural</td>\n",
              "      <td>32.2</td>\n",
              "      <td>formerly smoked</td>\n",
              "      <td>0</td>\n",
              "    </tr>\n",
              "    <tr>\n",
              "      <th>26199</th>\n",
              "      <td>42452</td>\n",
              "      <td>Other</td>\n",
              "      <td>10.0</td>\n",
              "      <td>0</td>\n",
              "      <td>0</td>\n",
              "      <td>No</td>\n",
              "      <td>children</td>\n",
              "      <td>Rural</td>\n",
              "      <td>21.2</td>\n",
              "      <td>formerly smoked</td>\n",
              "      <td>0</td>\n",
              "    </tr>\n",
              "    <tr>\n",
              "      <th>26831</th>\n",
              "      <td>49812</td>\n",
              "      <td>Other</td>\n",
              "      <td>53.0</td>\n",
              "      <td>0</td>\n",
              "      <td>0</td>\n",
              "      <td>Yes</td>\n",
              "      <td>Govt_job</td>\n",
              "      <td>Urban</td>\n",
              "      <td>NaN</td>\n",
              "      <td>NaN</td>\n",
              "      <td>0</td>\n",
              "    </tr>\n",
              "    <tr>\n",
              "      <th>40768</th>\n",
              "      <td>14986</td>\n",
              "      <td>Other</td>\n",
              "      <td>11.0</td>\n",
              "      <td>0</td>\n",
              "      <td>0</td>\n",
              "      <td>No</td>\n",
              "      <td>children</td>\n",
              "      <td>Urban</td>\n",
              "      <td>18.1</td>\n",
              "      <td>formerly smoked</td>\n",
              "      <td>0</td>\n",
              "    </tr>\n",
              "  </tbody>\n",
              "</table>\n",
              "</div>"
            ],
            "text/plain": [
              "          id gender   age  ...   bmi   smoking_status stroke\n",
              "2914   56156  Other  26.0  ...  22.4  formerly smoked      0\n",
              "10768  26188  Other  46.0  ...   NaN     never smoked      0\n",
              "15620  52984  Other  27.0  ...   NaN           smokes      0\n",
              "15838  24893  Other  53.0  ...   NaN              NaN      0\n",
              "19748  13471  Other  39.0  ...  32.0  formerly smoked      0\n",
              "21041  31015  Other  19.0  ...  32.2  formerly smoked      0\n",
              "21192  27043  Other  49.0  ...  37.2     never smoked      0\n",
              "24252  51111  Other  51.0  ...  32.2  formerly smoked      0\n",
              "26199  42452  Other  10.0  ...  21.2  formerly smoked      0\n",
              "26831  49812  Other  53.0  ...   NaN              NaN      0\n",
              "40768  14986  Other  11.0  ...  18.1  formerly smoked      0\n",
              "\n",
              "[11 rows x 11 columns]"
            ]
          },
          "metadata": {},
          "execution_count": 6
        }
      ]
    },
    {
      "cell_type": "markdown",
      "source": [
        "성별중에 other값이라는게 있어서 따로 로우를 설정해 확인해본 결과 그 수가 몇개 안되고 stroke값도 전부 0으로 되어있어 결과 예측에 별 도움이 되지 않을거라고 판단해 해당 로우를 제거하기로함"
      ],
      "metadata": {
        "id": "rPIxIelLubev"
      }
    },
    {
      "cell_type": "code",
      "source": [
        "gender_condition =heart_df[heart_df['gender'] == 'Other'].index\n",
        "heart_df.drop(gender_condition,inplace=True)"
      ],
      "metadata": {
        "id": "jZBaMUBbtZ51"
      },
      "execution_count": null,
      "outputs": []
    },
    {
      "cell_type": "code",
      "source": [
        "len(heart_df)"
      ],
      "metadata": {
        "colab": {
          "base_uri": "https://localhost:8080/"
        },
        "id": "UaBW2iy4vjB7",
        "outputId": "22377e73-b14d-4709-b020-8e98f7e96a58"
      },
      "execution_count": null,
      "outputs": [
        {
          "output_type": "execute_result",
          "data": {
            "text/plain": [
              "43389"
            ]
          },
          "metadata": {},
          "execution_count": 95
        }
      ]
    },
    {
      "cell_type": "markdown",
      "metadata": {
        "id": "w9Xc8BPkpMdV"
      },
      "source": [
        "##### 흡연의 여부가 결과에 미치는 영향"
      ]
    },
    {
      "cell_type": "code",
      "execution_count": null,
      "metadata": {
        "id": "S-2-IXBvpMdW"
      },
      "outputs": [],
      "source": [
        "smoke_df=heart_df.groupby('smoking_status')['stroke'].value_counts()"
      ]
    },
    {
      "cell_type": "code",
      "execution_count": null,
      "metadata": {
        "colab": {
          "base_uri": "https://localhost:8080/"
        },
        "id": "BxNrw8_npMdW",
        "outputId": "1a4d8afd-8b58-4cb1-9cee-b8a90ebee932"
      },
      "outputs": [
        {
          "output_type": "execute_result",
          "data": {
            "text/plain": [
              "smoking_status   stroke\n",
              "formerly smoked  0          7266\n",
              "                 1           221\n",
              "never smoked     0         15767\n",
              "                 1           284\n",
              "smokes           0          6428\n",
              "                 1           133\n",
              "Name: stroke, dtype: int64"
            ]
          },
          "metadata": {},
          "execution_count": 97
        }
      ],
      "source": [
        "smoke_df"
      ]
    },
    {
      "cell_type": "markdown",
      "metadata": {
        "id": "i4Bk7FE5pMdX"
      },
      "source": [
        "흡연 여부가 심장마비로 사망할 확률에 미치는 영향"
      ]
    },
    {
      "cell_type": "code",
      "execution_count": null,
      "metadata": {
        "colab": {
          "base_uri": "https://localhost:8080/"
        },
        "id": "uluu9qx9pMdY",
        "outputId": "64525d66-2bba-421d-d72a-5db4ed8413df"
      },
      "outputs": [
        {
          "output_type": "stream",
          "name": "stdout",
          "text": [
            "2.95 %\n",
            "1.77 %\n",
            "2.03 %\n"
          ]
        }
      ],
      "source": [
        "for i in range(6):\n",
        "    if (i%2) == 0:\n",
        "        percentage = smoke_df[i+1]/(smoke_df[i]+smoke_df[i+1]) * 100\n",
        "        print(round(percentage,2),\"%\")"
      ]
    },
    {
      "cell_type": "markdown",
      "metadata": {
        "id": "YxqdOKMbpMdZ"
      },
      "source": [
        "#### bmi수치가 결과에 미치는 영향 확인"
      ]
    },
    {
      "cell_type": "code",
      "execution_count": null,
      "metadata": {
        "id": "ruFX0962pMdb"
      },
      "outputs": [],
      "source": [
        "# heart_df.loc[heart_df['bmi'] < 23 , 'bmi_rank']  = '정상'\n",
        "# heart_df.loc[(heart_df['bmi'] >= 23) & (heart_df['bmi'] <= 24.9) , 'bmi_rank']  = '과체중'\n",
        "# heart_df.loc[(heart_df['bmi'] > 24.9) & (heart_df['bmi'] <= 29.9) ,'bmi_rank']  = '비만_1'\n",
        "# heart_df.loc[(heart_df['bmi'] > 29.9) & (heart_df['bmi'] <= 34.9) , 'bmi_rank']  = '비만_2'\n",
        "# heart_df.loc[heart_df['bmi'] > 34.9 , 'bmi_rank']  = '비만_3'\n",
        "# heart_df.loc[heart_df['bmi'].isnull() , 'bmi_rank']  = 'NaN'"
      ]
    },
    {
      "cell_type": "code",
      "execution_count": null,
      "metadata": {
        "colab": {
          "base_uri": "https://localhost:8080/",
          "height": 163
        },
        "id": "IXwR_L7CpMdc",
        "outputId": "41bbad72-63af-462a-a2f1-540f8a9c6675"
      },
      "outputs": [
        {
          "output_type": "execute_result",
          "data": {
            "text/html": [
              "<div>\n",
              "<style scoped>\n",
              "    .dataframe tbody tr th:only-of-type {\n",
              "        vertical-align: middle;\n",
              "    }\n",
              "\n",
              "    .dataframe tbody tr th {\n",
              "        vertical-align: top;\n",
              "    }\n",
              "\n",
              "    .dataframe thead th {\n",
              "        text-align: right;\n",
              "    }\n",
              "</style>\n",
              "<table border=\"1\" class=\"dataframe\">\n",
              "  <thead>\n",
              "    <tr style=\"text-align: right;\">\n",
              "      <th></th>\n",
              "      <th>id</th>\n",
              "      <th>gender</th>\n",
              "      <th>age</th>\n",
              "      <th>hypertension</th>\n",
              "      <th>heart_disease</th>\n",
              "      <th>ever_married</th>\n",
              "      <th>work_type</th>\n",
              "      <th>Residence_type</th>\n",
              "      <th>bmi</th>\n",
              "      <th>smoking_status</th>\n",
              "      <th>stroke</th>\n",
              "      <th>bmi_rank</th>\n",
              "    </tr>\n",
              "  </thead>\n",
              "  <tbody>\n",
              "    <tr>\n",
              "      <th>0</th>\n",
              "      <td>30669</td>\n",
              "      <td>Male</td>\n",
              "      <td>3.0</td>\n",
              "      <td>0</td>\n",
              "      <td>0</td>\n",
              "      <td>No</td>\n",
              "      <td>children</td>\n",
              "      <td>Rural</td>\n",
              "      <td>18.0</td>\n",
              "      <td>NaN</td>\n",
              "      <td>0</td>\n",
              "      <td>정상</td>\n",
              "    </tr>\n",
              "    <tr>\n",
              "      <th>1</th>\n",
              "      <td>30468</td>\n",
              "      <td>Male</td>\n",
              "      <td>58.0</td>\n",
              "      <td>1</td>\n",
              "      <td>0</td>\n",
              "      <td>Yes</td>\n",
              "      <td>Private</td>\n",
              "      <td>Urban</td>\n",
              "      <td>39.2</td>\n",
              "      <td>never smoked</td>\n",
              "      <td>0</td>\n",
              "      <td>비만_3</td>\n",
              "    </tr>\n",
              "    <tr>\n",
              "      <th>2</th>\n",
              "      <td>16523</td>\n",
              "      <td>Female</td>\n",
              "      <td>8.0</td>\n",
              "      <td>0</td>\n",
              "      <td>0</td>\n",
              "      <td>No</td>\n",
              "      <td>Private</td>\n",
              "      <td>Urban</td>\n",
              "      <td>17.6</td>\n",
              "      <td>NaN</td>\n",
              "      <td>0</td>\n",
              "      <td>정상</td>\n",
              "    </tr>\n",
              "  </tbody>\n",
              "</table>\n",
              "</div>"
            ],
            "text/plain": [
              "      id  gender   age  hypertension  ...   bmi smoking_status stroke bmi_rank\n",
              "0  30669    Male   3.0             0  ...  18.0            NaN      0       정상\n",
              "1  30468    Male  58.0             1  ...  39.2   never smoked      0     비만_3\n",
              "2  16523  Female   8.0             0  ...  17.6            NaN      0       정상\n",
              "\n",
              "[3 rows x 12 columns]"
            ]
          },
          "metadata": {},
          "execution_count": 100
        }
      ],
      "source": [
        "heart_df.head(3)"
      ]
    },
    {
      "cell_type": "code",
      "execution_count": null,
      "metadata": {
        "colab": {
          "base_uri": "https://localhost:8080/"
        },
        "id": "PoziLyLppMde",
        "outputId": "011a2789-0371-4f89-c7af-1f3675cbea5c"
      },
      "outputs": [
        {
          "output_type": "stream",
          "name": "stdout",
          "text": [
            "비만_1    11694\n",
            "정상       9851\n",
            "비만_2     8396\n",
            "비만_3     7615\n",
            "과체중      4375\n",
            "NaN      1458\n",
            "Name: bmi_rank, dtype: int64\n"
          ]
        }
      ],
      "source": [
        "print(heart_df['bmi_rank'].value_counts())"
      ]
    },
    {
      "cell_type": "code",
      "execution_count": null,
      "metadata": {
        "colab": {
          "base_uri": "https://localhost:8080/"
        },
        "id": "CeTe2YhqpMdf",
        "outputId": "0a449c5a-5ff2-4c3a-9a98-01a4c40f844a"
      },
      "outputs": [
        {
          "output_type": "execute_result",
          "data": {
            "text/plain": [
              "bmi_rank  stroke\n",
              "NaN       0          1318\n",
              "          1           140\n",
              "과체중       0          4320\n",
              "          1            55\n",
              "비만_1      0         11463\n",
              "          1           231\n",
              "비만_2      0          8231\n",
              "          1           165\n",
              "비만_3      0          7498\n",
              "          1           117\n",
              "정상        0          9776\n",
              "          1            75\n",
              "Name: stroke, dtype: int64"
            ]
          },
          "metadata": {},
          "execution_count": 102
        }
      ],
      "source": [
        "bmi_df=heart_df.groupby('bmi_rank')['stroke'].value_counts()\n",
        "bmi_df"
      ]
    },
    {
      "cell_type": "markdown",
      "metadata": {
        "id": "qE2-I-cjpMdg"
      },
      "source": [
        "bmi수치가 심장마비로 인해 사망에 미치는 영향(널값 포함)"
      ]
    },
    {
      "cell_type": "code",
      "execution_count": null,
      "metadata": {
        "colab": {
          "base_uri": "https://localhost:8080/"
        },
        "id": "ij05N8iEpMdh",
        "outputId": "c73aa660-2bde-4994-fc88-5ef05b042e59"
      },
      "outputs": [
        {
          "output_type": "stream",
          "name": "stdout",
          "text": [
            "9.6 %\n",
            "1.26 %\n",
            "1.98 %\n",
            "1.97 %\n",
            "1.54 %\n",
            "0.76 %\n"
          ]
        }
      ],
      "source": [
        "for i in range(12):\n",
        "    if (i%2) == 0:\n",
        "        percentage = bmi_df[i+1]/(bmi_df[i]+bmi_df[i+1]) * 100\n",
        "        print(round(percentage,2),\"%\")"
      ]
    },
    {
      "cell_type": "markdown",
      "source": [
        "그래도 정상 범주의 bmi를 가진 사람들이 심장 마비로 사망할 확률이 낮은것을 확인 가능함"
      ],
      "metadata": {
        "id": "gnncWx-Qx1ty"
      }
    },
    {
      "cell_type": "markdown",
      "metadata": {
        "id": "XT15t_depMdi"
      },
      "source": [
        "bmi의 결측치를 채워넣기 위해 연령&성별 bmi수치를 가져와 각 조건에 맞는 bmi 수치를 입력해줌"
      ]
    },
    {
      "cell_type": "code",
      "execution_count": null,
      "metadata": {
        "colab": {
          "base_uri": "https://localhost:8080/"
        },
        "id": "XKWTyeLzpMdi",
        "outputId": "8cd63306-21b6-4327-827e-93b8eef329b0"
      },
      "outputs": [
        {
          "output_type": "execute_result",
          "data": {
            "text/plain": [
              "count    43389.000000\n",
              "mean        42.219747\n",
              "std         22.520750\n",
              "min          0.080000\n",
              "25%         24.000000\n",
              "50%         44.000000\n",
              "75%         60.000000\n",
              "max         82.000000\n",
              "Name: age, dtype: float64"
            ]
          },
          "metadata": {},
          "execution_count": 104
        }
      ],
      "source": [
        "heart_df['age'].describe()"
      ]
    },
    {
      "cell_type": "markdown",
      "source": [
        "https://mangome.tistory.com/245 "
      ],
      "metadata": {
        "id": "cK0FdAZV0vHJ"
      }
    },
    {
      "cell_type": "code",
      "execution_count": null,
      "metadata": {
        "id": "mCQBwSzNpMdj"
      },
      "outputs": [],
      "source": [
        "condition_1_m = (heart_df['gender'] == 'Male') & (heart_df['age'] <10 ) # 각 연령과 성별에 맞는 조건식 설정\n",
        "condition_1_f = (heart_df['gender'] == 'Female') & (heart_df['age'] <10 )\n",
        "\n",
        "condition_2_m = (heart_df['gender'] == 'Male') & ((heart_df['age'] >=10) & (heart_df['age'] < 20) )\n",
        "condition_2_f = (heart_df['gender'] == 'Female') & ((heart_df['age'] >=10) & (heart_df['age'] < 20) )\n",
        "\n",
        "condition_3_m = (heart_df['gender'] == 'Male') & ((heart_df['age'] >=20) & (heart_df['age'] < 30) )\n",
        "condition_3_f = (heart_df['gender'] == 'Female') & ((heart_df['age'] >=20) & (heart_df['age'] < 30 ))\n",
        "\n",
        "condition_4_m = (heart_df['gender'] == 'Male') & ((heart_df['age'] >=30) & (heart_df['age'] < 40) )\n",
        "condition_4_f = (heart_df['gender'] == 'Female') & ((heart_df['age'] >=30) & (heart_df['age'] < 40) )\n",
        "\n",
        "condition_5_m = (heart_df['gender'] == 'Male') & ((heart_df['age'] >=40) & (heart_df['age'] < 50) )\n",
        "condition_5_f = (heart_df['gender'] == 'Female') & ((heart_df['age'] >=40) &( heart_df['age'] < 50 ))\n",
        "\n",
        "condition_6_m = (heart_df['gender'] == 'Male') & ((heart_df['age'] >=50) & (heart_df['age'] < 60) )\n",
        "condition_6_f = (heart_df['gender'] == 'Female') & ((heart_df['age'] >=50) & (heart_df['age'] < 60) )\n",
        "\n",
        "condition_7_m = (heart_df['gender'] == 'Male') & ((heart_df['age'] >=60) & (heart_df['age'] < 70) )\n",
        "condition_7_f = (heart_df['gender'] == 'Female') & ((heart_df['age'] >=60) & (heart_df['age'] < 70) )\n",
        "\n",
        "condition_8_m = (heart_df['gender'] == 'Male') & ((heart_df['age'] >=70) & (heart_df['age'] < 80) )\n",
        "condition_8_f = (heart_df['gender'] == 'Female') & ((heart_df['age'] >=70) & (heart_df['age'] < 80) )\n",
        "\n",
        "condition_9_m = (heart_df['gender'] == 'Male') & (heart_df['age'] >=80 )\n",
        "condition_9_f = (heart_df['gender'] == 'Female') & (heart_df['age'] >=80 )"
      ]
    },
    {
      "cell_type": "code",
      "source": [
        "heart_df.loc[(condition_1_f)&(heart_df.bmi.isna()),'bmi'] = 19.46\n",
        "heart_df.loc[(condition_1_m)&(heart_df.bmi.isna()),'bmi'] = 21.01\n",
        "\n",
        "heart_df.loc[(condition_2_f)&(heart_df.bmi.isna()),'bmi'] = 20.52\n",
        "heart_df.loc[(condition_2_m)&(heart_df.bmi.isna()),'bmi'] = 22.09\n",
        "\n",
        "heart_df.loc[(condition_3_f)&(heart_df.bmi.isna()),'bmi'] = 21.20\n",
        "heart_df.loc[(condition_3_m)&(heart_df.bmi.isna()),'bmi'] = 22.98\n",
        "\n",
        "heart_df.loc[(condition_4_f)&(heart_df.bmi.isna()),'bmi'] = 21.91\n",
        "heart_df.loc[(condition_4_m)&(heart_df.bmi.isna()),'bmi'] = 23.74\n",
        "\n",
        "heart_df.loc[(condition_5_f)&(heart_df.bmi.isna()),'bmi'] = 22.76\n",
        "heart_df.loc[(condition_5_m)&(heart_df.bmi.isna()),'bmi'] = 24.35\n",
        "\n",
        "heart_df.loc[(condition_6_f)&(heart_df.bmi.isna()),'bmi'] = 23.46\n",
        "heart_df.loc[(condition_6_m)&(heart_df.bmi.isna()),'bmi'] = 25.00\n",
        "\n",
        "heart_df.loc[(condition_7_f)&(heart_df.bmi.isna()),'bmi'] = 24.15\n",
        "heart_df.loc[(condition_7_m)&(heart_df.bmi.isna()),'bmi'] = 25.68\n",
        "\n",
        "heart_df.loc[(condition_8_f)&(heart_df.bmi.isna()),'bmi'] = 25.65\n",
        "heart_df.loc[(condition_8_m)&(heart_df.bmi.isna()),'bmi'] = 26.54\n",
        "\n",
        "heart_df.loc[(condition_9_f)&(heart_df.bmi.isna()),'bmi'] = 27.16\n",
        "heart_df.loc[(condition_9_m)&(heart_df.bmi.isna()),'bmi'] = 27.75"
      ],
      "metadata": {
        "id": "8B7Ptq6O_hdq"
      },
      "execution_count": null,
      "outputs": []
    },
    {
      "cell_type": "code",
      "source": [
        "heart_df.isnull().sum()"
      ],
      "metadata": {
        "colab": {
          "base_uri": "https://localhost:8080/"
        },
        "id": "2X4O4jzODWfo",
        "outputId": "f48f8771-c3f0-4aef-b2ba-bef1c12be02c"
      },
      "execution_count": null,
      "outputs": [
        {
          "output_type": "execute_result",
          "data": {
            "text/plain": [
              "id                    0\n",
              "gender                0\n",
              "age                   0\n",
              "hypertension          0\n",
              "heart_disease         0\n",
              "ever_married          0\n",
              "work_type             0\n",
              "Residence_type        0\n",
              "bmi                   0\n",
              "smoking_status    13290\n",
              "stroke                0\n",
              "dtype: int64"
            ]
          },
          "metadata": {},
          "execution_count": 10
        }
      ]
    },
    {
      "cell_type": "markdown",
      "source": [
        "#### 다시 한 번 범위를 설정해줌\n",
        "널 값이 사라진걸 확인 함"
      ],
      "metadata": {
        "id": "O0phE0pnFXsx"
      }
    },
    {
      "cell_type": "code",
      "source": [
        "# heart_df.loc[heart_df['bmi'] < 23 , 'bmi_rank']  = '정상'\n",
        "# heart_df.loc[(heart_df['bmi'] >= 23) & (heart_df['bmi'] <= 24.9) , 'bmi_rank']  = '과체중'\n",
        "# heart_df.loc[(heart_df['bmi'] > 24.9) & (heart_df['bmi'] <= 29.9) ,'bmi_rank']  = '비만_1'\n",
        "# heart_df.loc[(heart_df['bmi'] > 29.9) & (heart_df['bmi'] <= 34.9) , 'bmi_rank']  = '비만_2'\n",
        "# heart_df.loc[heart_df['bmi'] > 34.9 , 'bmi_rank']  = '비만_3'\n",
        "# heart_df.loc[heart_df['bmi'].isnull() , 'bmi_rank']  = 'NaN'"
      ],
      "metadata": {
        "id": "K2LKKxM4DuAi"
      },
      "execution_count": null,
      "outputs": []
    },
    {
      "cell_type": "code",
      "source": [
        "print(heart_df['bmi_rank'].value_counts())"
      ],
      "metadata": {
        "colab": {
          "base_uri": "https://localhost:8080/"
        },
        "id": "WwkU9-gdFffy",
        "outputId": "cca111af-7355-49de-ab50-3d8b37c07873"
      },
      "execution_count": null,
      "outputs": [
        {
          "output_type": "stream",
          "name": "stdout",
          "text": [
            "비만_1    12351\n",
            "정상      10225\n",
            "비만_2     8396\n",
            "비만_3     7615\n",
            "과체중      4802\n",
            "Name: bmi_rank, dtype: int64\n"
          ]
        }
      ]
    },
    {
      "cell_type": "markdown",
      "source": [
        "최종적으로 bmi 범위에 따른 심장 마비 확률을 구함"
      ],
      "metadata": {
        "id": "n9sp8yG0F0xs"
      }
    },
    {
      "cell_type": "code",
      "source": [
        "bmi_df=heart_df.groupby('bmi_rank')['stroke'].value_counts()\n",
        "bmi_df"
      ],
      "metadata": {
        "colab": {
          "base_uri": "https://localhost:8080/"
        },
        "id": "4UPHhOW7Fhsw",
        "outputId": "67f16be5-b42e-4686-e334-153e751a4d70"
      },
      "execution_count": null,
      "outputs": [
        {
          "output_type": "execute_result",
          "data": {
            "text/plain": [
              "bmi_rank  stroke\n",
              "과체중       0          4722\n",
              "          1            80\n",
              "비만_1      0         12015\n",
              "          1           336\n",
              "비만_2      0          8231\n",
              "          1           165\n",
              "비만_3      0          7498\n",
              "          1           117\n",
              "정상        0         10140\n",
              "          1            85\n",
              "Name: stroke, dtype: int64"
            ]
          },
          "metadata": {},
          "execution_count": 110
        }
      ]
    },
    {
      "cell_type": "code",
      "source": [
        "for i in range(10):\n",
        "    if (i%2) == 0:\n",
        "        percentage = bmi_df[i+1]/(bmi_df[i]+bmi_df[i+1]) * 100\n",
        "        print(round(percentage,2),\"%\")"
      ],
      "metadata": {
        "colab": {
          "base_uri": "https://localhost:8080/"
        },
        "id": "asbEj6qWFoiy",
        "outputId": "604123d3-09ef-481e-f599-6f25d20c03de"
      },
      "execution_count": null,
      "outputs": [
        {
          "output_type": "stream",
          "name": "stdout",
          "text": [
            "1.67 %\n",
            "2.72 %\n",
            "1.97 %\n",
            "1.54 %\n",
            "0.83 %\n"
          ]
        }
      ]
    },
    {
      "cell_type": "markdown",
      "source": [
        "#### 흡연 여부의 결측치는 전부 비흡연자로 설정 후 최종 저장"
      ],
      "metadata": {
        "id": "kyO-5zLOGdU1"
      }
    },
    {
      "cell_type": "code",
      "source": [
        "heart_df['smoking_status'].fillna('never smoked',inplace = True)"
      ],
      "metadata": {
        "id": "Y14xJW3aFpdP"
      },
      "execution_count": null,
      "outputs": []
    },
    {
      "cell_type": "code",
      "source": [
        "heart_df.isnull().sum()"
      ],
      "metadata": {
        "colab": {
          "base_uri": "https://localhost:8080/"
        },
        "id": "sT3a9iTwG61_",
        "outputId": "51675e67-7fce-4870-c231-20bd1cadd06f"
      },
      "execution_count": null,
      "outputs": [
        {
          "output_type": "execute_result",
          "data": {
            "text/plain": [
              "id                0\n",
              "gender            0\n",
              "age               0\n",
              "hypertension      0\n",
              "heart_disease     0\n",
              "ever_married      0\n",
              "work_type         0\n",
              "Residence_type    0\n",
              "bmi               0\n",
              "smoking_status    0\n",
              "stroke            0\n",
              "dtype: int64"
            ]
          },
          "metadata": {},
          "execution_count": 12
        }
      ]
    },
    {
      "cell_type": "code",
      "source": [
        "heart_df.head()"
      ],
      "metadata": {
        "colab": {
          "base_uri": "https://localhost:8080/",
          "height": 206
        },
        "id": "OPXazv-1IJXq",
        "outputId": "10edf7c7-0ed3-4aa0-9720-cc5d68bec593"
      },
      "execution_count": null,
      "outputs": [
        {
          "output_type": "execute_result",
          "data": {
            "text/html": [
              "<div>\n",
              "<style scoped>\n",
              "    .dataframe tbody tr th:only-of-type {\n",
              "        vertical-align: middle;\n",
              "    }\n",
              "\n",
              "    .dataframe tbody tr th {\n",
              "        vertical-align: top;\n",
              "    }\n",
              "\n",
              "    .dataframe thead th {\n",
              "        text-align: right;\n",
              "    }\n",
              "</style>\n",
              "<table border=\"1\" class=\"dataframe\">\n",
              "  <thead>\n",
              "    <tr style=\"text-align: right;\">\n",
              "      <th></th>\n",
              "      <th>id</th>\n",
              "      <th>gender</th>\n",
              "      <th>age</th>\n",
              "      <th>hypertension</th>\n",
              "      <th>heart_disease</th>\n",
              "      <th>ever_married</th>\n",
              "      <th>work_type</th>\n",
              "      <th>Residence_type</th>\n",
              "      <th>bmi</th>\n",
              "      <th>smoking_status</th>\n",
              "      <th>stroke</th>\n",
              "    </tr>\n",
              "  </thead>\n",
              "  <tbody>\n",
              "    <tr>\n",
              "      <th>0</th>\n",
              "      <td>30669</td>\n",
              "      <td>Male</td>\n",
              "      <td>3.0</td>\n",
              "      <td>0</td>\n",
              "      <td>0</td>\n",
              "      <td>No</td>\n",
              "      <td>children</td>\n",
              "      <td>Rural</td>\n",
              "      <td>18.0</td>\n",
              "      <td>never smoked</td>\n",
              "      <td>0</td>\n",
              "    </tr>\n",
              "    <tr>\n",
              "      <th>1</th>\n",
              "      <td>30468</td>\n",
              "      <td>Male</td>\n",
              "      <td>58.0</td>\n",
              "      <td>1</td>\n",
              "      <td>0</td>\n",
              "      <td>Yes</td>\n",
              "      <td>Private</td>\n",
              "      <td>Urban</td>\n",
              "      <td>39.2</td>\n",
              "      <td>never smoked</td>\n",
              "      <td>0</td>\n",
              "    </tr>\n",
              "    <tr>\n",
              "      <th>2</th>\n",
              "      <td>16523</td>\n",
              "      <td>Female</td>\n",
              "      <td>8.0</td>\n",
              "      <td>0</td>\n",
              "      <td>0</td>\n",
              "      <td>No</td>\n",
              "      <td>Private</td>\n",
              "      <td>Urban</td>\n",
              "      <td>17.6</td>\n",
              "      <td>never smoked</td>\n",
              "      <td>0</td>\n",
              "    </tr>\n",
              "    <tr>\n",
              "      <th>3</th>\n",
              "      <td>56543</td>\n",
              "      <td>Female</td>\n",
              "      <td>70.0</td>\n",
              "      <td>0</td>\n",
              "      <td>0</td>\n",
              "      <td>Yes</td>\n",
              "      <td>Private</td>\n",
              "      <td>Rural</td>\n",
              "      <td>35.9</td>\n",
              "      <td>formerly smoked</td>\n",
              "      <td>0</td>\n",
              "    </tr>\n",
              "    <tr>\n",
              "      <th>4</th>\n",
              "      <td>46136</td>\n",
              "      <td>Male</td>\n",
              "      <td>14.0</td>\n",
              "      <td>0</td>\n",
              "      <td>0</td>\n",
              "      <td>No</td>\n",
              "      <td>Never_worked</td>\n",
              "      <td>Rural</td>\n",
              "      <td>19.1</td>\n",
              "      <td>never smoked</td>\n",
              "      <td>0</td>\n",
              "    </tr>\n",
              "  </tbody>\n",
              "</table>\n",
              "</div>"
            ],
            "text/plain": [
              "      id  gender   age  ...   bmi   smoking_status stroke\n",
              "0  30669    Male   3.0  ...  18.0     never smoked      0\n",
              "1  30468    Male  58.0  ...  39.2     never smoked      0\n",
              "2  16523  Female   8.0  ...  17.6     never smoked      0\n",
              "3  56543  Female  70.0  ...  35.9  formerly smoked      0\n",
              "4  46136    Male  14.0  ...  19.1     never smoked      0\n",
              "\n",
              "[5 rows x 11 columns]"
            ]
          },
          "metadata": {},
          "execution_count": 13
        }
      ]
    },
    {
      "cell_type": "markdown",
      "source": [
        "bmi범위를 구했으니 부동소수로된 bmi컬럼은 삭제를 한다"
      ],
      "metadata": {
        "id": "vdNOiLMbHJ3v"
      }
    },
    {
      "cell_type": "code",
      "source": [
        "preprocessing_data = heart_df.drop('bmi',axis=1)"
      ],
      "metadata": {
        "id": "gDwhyUKwG_YS"
      },
      "execution_count": null,
      "outputs": []
    },
    {
      "cell_type": "code",
      "source": [
        "preprocessing_data.head()"
      ],
      "metadata": {
        "colab": {
          "base_uri": "https://localhost:8080/",
          "height": 206
        },
        "id": "2QUWC0ZOHk-A",
        "outputId": "9f44987f-1052-4780-a097-eb4505ccfa3d"
      },
      "execution_count": null,
      "outputs": [
        {
          "output_type": "execute_result",
          "data": {
            "text/html": [
              "<div>\n",
              "<style scoped>\n",
              "    .dataframe tbody tr th:only-of-type {\n",
              "        vertical-align: middle;\n",
              "    }\n",
              "\n",
              "    .dataframe tbody tr th {\n",
              "        vertical-align: top;\n",
              "    }\n",
              "\n",
              "    .dataframe thead th {\n",
              "        text-align: right;\n",
              "    }\n",
              "</style>\n",
              "<table border=\"1\" class=\"dataframe\">\n",
              "  <thead>\n",
              "    <tr style=\"text-align: right;\">\n",
              "      <th></th>\n",
              "      <th>id</th>\n",
              "      <th>gender</th>\n",
              "      <th>age</th>\n",
              "      <th>hypertension</th>\n",
              "      <th>heart_disease</th>\n",
              "      <th>ever_married</th>\n",
              "      <th>work_type</th>\n",
              "      <th>Residence_type</th>\n",
              "      <th>smoking_status</th>\n",
              "      <th>stroke</th>\n",
              "    </tr>\n",
              "  </thead>\n",
              "  <tbody>\n",
              "    <tr>\n",
              "      <th>0</th>\n",
              "      <td>30669</td>\n",
              "      <td>Male</td>\n",
              "      <td>3.0</td>\n",
              "      <td>0</td>\n",
              "      <td>0</td>\n",
              "      <td>No</td>\n",
              "      <td>children</td>\n",
              "      <td>Rural</td>\n",
              "      <td>never smoked</td>\n",
              "      <td>0</td>\n",
              "    </tr>\n",
              "    <tr>\n",
              "      <th>1</th>\n",
              "      <td>30468</td>\n",
              "      <td>Male</td>\n",
              "      <td>58.0</td>\n",
              "      <td>1</td>\n",
              "      <td>0</td>\n",
              "      <td>Yes</td>\n",
              "      <td>Private</td>\n",
              "      <td>Urban</td>\n",
              "      <td>never smoked</td>\n",
              "      <td>0</td>\n",
              "    </tr>\n",
              "    <tr>\n",
              "      <th>2</th>\n",
              "      <td>16523</td>\n",
              "      <td>Female</td>\n",
              "      <td>8.0</td>\n",
              "      <td>0</td>\n",
              "      <td>0</td>\n",
              "      <td>No</td>\n",
              "      <td>Private</td>\n",
              "      <td>Urban</td>\n",
              "      <td>never smoked</td>\n",
              "      <td>0</td>\n",
              "    </tr>\n",
              "    <tr>\n",
              "      <th>3</th>\n",
              "      <td>56543</td>\n",
              "      <td>Female</td>\n",
              "      <td>70.0</td>\n",
              "      <td>0</td>\n",
              "      <td>0</td>\n",
              "      <td>Yes</td>\n",
              "      <td>Private</td>\n",
              "      <td>Rural</td>\n",
              "      <td>formerly smoked</td>\n",
              "      <td>0</td>\n",
              "    </tr>\n",
              "    <tr>\n",
              "      <th>4</th>\n",
              "      <td>46136</td>\n",
              "      <td>Male</td>\n",
              "      <td>14.0</td>\n",
              "      <td>0</td>\n",
              "      <td>0</td>\n",
              "      <td>No</td>\n",
              "      <td>Never_worked</td>\n",
              "      <td>Rural</td>\n",
              "      <td>never smoked</td>\n",
              "      <td>0</td>\n",
              "    </tr>\n",
              "  </tbody>\n",
              "</table>\n",
              "</div>"
            ],
            "text/plain": [
              "      id  gender   age  ...  Residence_type   smoking_status stroke\n",
              "0  30669    Male   3.0  ...           Rural     never smoked      0\n",
              "1  30468    Male  58.0  ...           Urban     never smoked      0\n",
              "2  16523  Female   8.0  ...           Urban     never smoked      0\n",
              "3  56543  Female  70.0  ...           Rural  formerly smoked      0\n",
              "4  46136    Male  14.0  ...           Rural     never smoked      0\n",
              "\n",
              "[5 rows x 10 columns]"
            ]
          },
          "metadata": {},
          "execution_count": 15
        }
      ]
    },
    {
      "cell_type": "code",
      "source": [
        "preprocessing_data.to_csv('/content/drive/MyDrive/heart stroke/prepro_data_2.csv')"
      ],
      "metadata": {
        "id": "474mNHaXHm3q"
      },
      "execution_count": null,
      "outputs": []
    },
    {
      "cell_type": "code",
      "source": [
        ""
      ],
      "metadata": {
        "id": "VEACmsrhJMqg"
      },
      "execution_count": null,
      "outputs": []
    }
  ],
  "metadata": {
    "interpreter": {
      "hash": "60af5c81ffa00bed911704ff054405489da13f9503e86373e95cf9267d593cbf"
    },
    "kernelspec": {
      "display_name": "Python 3.6.5 64-bit ('tensorflow_p36': conda)",
      "language": "python",
      "name": "python3"
    },
    "language_info": {
      "codemirror_mode": {
        "name": "ipython",
        "version": 3
      },
      "file_extension": ".py",
      "mimetype": "text/x-python",
      "name": "python",
      "nbconvert_exporter": "python",
      "pygments_lexer": "ipython3",
      "version": "3.6.5"
    },
    "orig_nbformat": 4,
    "colab": {
      "name": "data_preprocessing.ipynb",
      "provenance": [],
      "include_colab_link": true
    },
    "accelerator": "GPU"
  },
  "nbformat": 4,
  "nbformat_minor": 0
}